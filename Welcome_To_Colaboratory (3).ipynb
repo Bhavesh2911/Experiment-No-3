{
  "cells": [
    {
      "cell_type": "markdown",
      "source": [
        "Write a program to Perform different arithmetic operations on numbers in python."
      ],
      "metadata": {
        "id": "40c_xqK3klpG"
      }
    },
    {
      "cell_type": "code",
      "source": [
        "a = 7\n",
        "b = 3\n",
        "\n",
        "print(a+b)\n",
        "\n",
        "\n",
        "a = 6\n",
        "b = 4\n",
        "\n",
        "print(a-b)\n",
        "\n",
        "\n",
        "a = 2\n",
        "b = 9\n",
        "\n",
        "print(a * b)\n",
        "\n",
        "a= 15\n",
        "b = 5\n",
        "\n",
        "print(a / b)\n",
        "\n",
        "a = 9\n",
        "b = 3\n",
        "\n",
        "print(a % b)\n",
        "\n",
        "a= 9\n",
        "b= 3\n",
        "\n",
        "print(a ** b) \n",
        "\n",
        "a = 36\n",
        "b = 9\n",
        "\n",
        "print(a // b)\n",
        "\n",
        "#the floor division // rounds the result down to the nearest whole number"
      ],
      "metadata": {
        "id": "rnr7exRjtwXX",
        "outputId": "47c4c264-e39e-4688-911a-b14555ee63e4",
        "colab": {
          "base_uri": "https://localhost:8080/"
        }
      },
      "execution_count": 15,
      "outputs": [
        {
          "output_type": "stream",
          "name": "stdout",
          "text": [
            "10\n",
            "2\n",
            "18\n",
            "3.0\n",
            "0\n",
            "729\n",
            "4\n"
          ]
        }
      ]
    }
  ],
  "metadata": {
    "colab": {
      "collapsed_sections": [],
      "name": "Welcome To Colaboratory",
      "toc_visible": true,
      "provenance": []
    },
    "kernelspec": {
      "display_name": "Python 3",
      "name": "python3"
    }
  },
  "nbformat": 4,
  "nbformat_minor": 0
}